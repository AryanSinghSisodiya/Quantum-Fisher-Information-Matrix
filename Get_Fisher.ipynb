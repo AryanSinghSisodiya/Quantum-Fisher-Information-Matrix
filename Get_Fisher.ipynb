{
  "nbformat": 4,
  "nbformat_minor": 0,
  "metadata": {
    "colab": {
      "provenance": []
    },
    "kernelspec": {
      "name": "python3",
      "display_name": "Python 3"
    },
    "language_info": {
      "name": "python"
    }
  },
  "cells": [
    {
      "cell_type": "code",
      "source": [
        "!pip install qiskit\n",
        "!pip install qiskit_algorithms"
      ],
      "metadata": {
        "colab": {
          "base_uri": "https://localhost:8080/"
        },
        "collapsed": true,
        "id": "1GxmA2TTYwwy",
        "outputId": "c2dcf3d8-9e2d-46f9-c17f-39522d000342"
      },
      "execution_count": 2,
      "outputs": [
        {
          "output_type": "stream",
          "name": "stdout",
          "text": [
            "Collecting qiskit\n",
            "  Downloading qiskit-1.2.4-cp38-abi3-manylinux_2_17_x86_64.manylinux2014_x86_64.whl.metadata (12 kB)\n",
            "Collecting rustworkx>=0.15.0 (from qiskit)\n",
            "  Downloading rustworkx-0.15.1-cp38-abi3-manylinux_2_17_x86_64.manylinux2014_x86_64.whl.metadata (9.9 kB)\n",
            "Requirement already satisfied: numpy<3,>=1.17 in /usr/local/lib/python3.10/dist-packages (from qiskit) (1.26.4)\n",
            "Requirement already satisfied: scipy>=1.5 in /usr/local/lib/python3.10/dist-packages (from qiskit) (1.13.1)\n",
            "Requirement already satisfied: sympy>=1.3 in /usr/local/lib/python3.10/dist-packages (from qiskit) (1.13.3)\n",
            "Collecting dill>=0.3 (from qiskit)\n",
            "  Downloading dill-0.3.9-py3-none-any.whl.metadata (10 kB)\n",
            "Requirement already satisfied: python-dateutil>=2.8.0 in /usr/local/lib/python3.10/dist-packages (from qiskit) (2.8.2)\n",
            "Collecting stevedore>=3.0.0 (from qiskit)\n",
            "  Downloading stevedore-5.3.0-py3-none-any.whl.metadata (2.3 kB)\n",
            "Requirement already satisfied: typing-extensions in /usr/local/lib/python3.10/dist-packages (from qiskit) (4.12.2)\n",
            "Collecting symengine<0.14,>=0.11 (from qiskit)\n",
            "  Downloading symengine-0.13.0-cp310-cp310-manylinux_2_17_x86_64.manylinux2014_x86_64.whl.metadata (1.2 kB)\n",
            "Requirement already satisfied: six>=1.5 in /usr/local/lib/python3.10/dist-packages (from python-dateutil>=2.8.0->qiskit) (1.16.0)\n",
            "Collecting pbr>=2.0.0 (from stevedore>=3.0.0->qiskit)\n",
            "  Downloading pbr-6.1.0-py2.py3-none-any.whl.metadata (3.4 kB)\n",
            "Requirement already satisfied: mpmath<1.4,>=1.1.0 in /usr/local/lib/python3.10/dist-packages (from sympy>=1.3->qiskit) (1.3.0)\n",
            "Downloading qiskit-1.2.4-cp38-abi3-manylinux_2_17_x86_64.manylinux2014_x86_64.whl (4.8 MB)\n",
            "\u001b[2K   \u001b[90m━━━━━━━━━━━━━━━━━━━━━━━━━━━━━━━━━━━━━━━━\u001b[0m \u001b[32m4.8/4.8 MB\u001b[0m \u001b[31m31.2 MB/s\u001b[0m eta \u001b[36m0:00:00\u001b[0m\n",
            "\u001b[?25hDownloading dill-0.3.9-py3-none-any.whl (119 kB)\n",
            "\u001b[2K   \u001b[90m━━━━━━━━━━━━━━━━━━━━━━━━━━━━━━━━━━━━━━━━\u001b[0m \u001b[32m119.4/119.4 kB\u001b[0m \u001b[31m9.1 MB/s\u001b[0m eta \u001b[36m0:00:00\u001b[0m\n",
            "\u001b[?25hDownloading rustworkx-0.15.1-cp38-abi3-manylinux_2_17_x86_64.manylinux2014_x86_64.whl (2.0 MB)\n",
            "\u001b[2K   \u001b[90m━━━━━━━━━━━━━━━━━━━━━━━━━━━━━━━━━━━━━━━━\u001b[0m \u001b[32m2.0/2.0 MB\u001b[0m \u001b[31m46.7 MB/s\u001b[0m eta \u001b[36m0:00:00\u001b[0m\n",
            "\u001b[?25hDownloading stevedore-5.3.0-py3-none-any.whl (49 kB)\n",
            "\u001b[2K   \u001b[90m━━━━━━━━━━━━━━━━━━━━━━━━━━━━━━━━━━━━━━━━\u001b[0m \u001b[32m49.7/49.7 kB\u001b[0m \u001b[31m3.3 MB/s\u001b[0m eta \u001b[36m0:00:00\u001b[0m\n",
            "\u001b[?25hDownloading symengine-0.13.0-cp310-cp310-manylinux_2_17_x86_64.manylinux2014_x86_64.whl (49.7 MB)\n",
            "\u001b[2K   \u001b[90m━━━━━━━━━━━━━━━━━━━━━━━━━━━━━━━━━━━━━━━━\u001b[0m \u001b[32m49.7/49.7 MB\u001b[0m \u001b[31m12.4 MB/s\u001b[0m eta \u001b[36m0:00:00\u001b[0m\n",
            "\u001b[?25hDownloading pbr-6.1.0-py2.py3-none-any.whl (108 kB)\n",
            "\u001b[2K   \u001b[90m━━━━━━━━━━━━━━━━━━━━━━━━━━━━━━━━━━━━━━━━\u001b[0m \u001b[32m108.5/108.5 kB\u001b[0m \u001b[31m5.3 MB/s\u001b[0m eta \u001b[36m0:00:00\u001b[0m\n",
            "\u001b[?25hInstalling collected packages: symengine, rustworkx, pbr, dill, stevedore, qiskit\n",
            "Successfully installed dill-0.3.9 pbr-6.1.0 qiskit-1.2.4 rustworkx-0.15.1 stevedore-5.3.0 symengine-0.13.0\n",
            "Collecting qiskit_algorithms\n",
            "  Downloading qiskit_algorithms-0.3.0-py3-none-any.whl.metadata (4.2 kB)\n",
            "Requirement already satisfied: qiskit>=0.44 in /usr/local/lib/python3.10/dist-packages (from qiskit_algorithms) (1.2.4)\n",
            "Requirement already satisfied: scipy>=1.4 in /usr/local/lib/python3.10/dist-packages (from qiskit_algorithms) (1.13.1)\n",
            "Requirement already satisfied: numpy>=1.17 in /usr/local/lib/python3.10/dist-packages (from qiskit_algorithms) (1.26.4)\n",
            "Requirement already satisfied: rustworkx>=0.15.0 in /usr/local/lib/python3.10/dist-packages (from qiskit>=0.44->qiskit_algorithms) (0.15.1)\n",
            "Requirement already satisfied: sympy>=1.3 in /usr/local/lib/python3.10/dist-packages (from qiskit>=0.44->qiskit_algorithms) (1.13.3)\n",
            "Requirement already satisfied: dill>=0.3 in /usr/local/lib/python3.10/dist-packages (from qiskit>=0.44->qiskit_algorithms) (0.3.9)\n",
            "Requirement already satisfied: python-dateutil>=2.8.0 in /usr/local/lib/python3.10/dist-packages (from qiskit>=0.44->qiskit_algorithms) (2.8.2)\n",
            "Requirement already satisfied: stevedore>=3.0.0 in /usr/local/lib/python3.10/dist-packages (from qiskit>=0.44->qiskit_algorithms) (5.3.0)\n",
            "Requirement already satisfied: typing-extensions in /usr/local/lib/python3.10/dist-packages (from qiskit>=0.44->qiskit_algorithms) (4.12.2)\n",
            "Requirement already satisfied: symengine<0.14,>=0.11 in /usr/local/lib/python3.10/dist-packages (from qiskit>=0.44->qiskit_algorithms) (0.13.0)\n",
            "Requirement already satisfied: six>=1.5 in /usr/local/lib/python3.10/dist-packages (from python-dateutil>=2.8.0->qiskit>=0.44->qiskit_algorithms) (1.16.0)\n",
            "Requirement already satisfied: pbr>=2.0.0 in /usr/local/lib/python3.10/dist-packages (from stevedore>=3.0.0->qiskit>=0.44->qiskit_algorithms) (6.1.0)\n",
            "Requirement already satisfied: mpmath<1.4,>=1.1.0 in /usr/local/lib/python3.10/dist-packages (from sympy>=1.3->qiskit>=0.44->qiskit_algorithms) (1.3.0)\n",
            "Downloading qiskit_algorithms-0.3.0-py3-none-any.whl (308 kB)\n",
            "\u001b[2K   \u001b[90m━━━━━━━━━━━━━━━━━━━━━━━━━━━━━━━━━━━━━━━━\u001b[0m \u001b[32m308.6/308.6 kB\u001b[0m \u001b[31m4.0 MB/s\u001b[0m eta \u001b[36m0:00:00\u001b[0m\n",
            "\u001b[?25hInstalling collected packages: qiskit_algorithms\n",
            "Successfully installed qiskit_algorithms-0.3.0\n"
          ]
        }
      ]
    },
    {
      "cell_type": "code",
      "source": [
        "!pip install pylatexenc"
      ],
      "metadata": {
        "colab": {
          "base_uri": "https://localhost:8080/"
        },
        "id": "H8zqCRxPZmK0",
        "outputId": "ce1b96f4-53a5-4aa2-af34-ad2bbc354bf8"
      },
      "execution_count": 8,
      "outputs": [
        {
          "output_type": "stream",
          "name": "stdout",
          "text": [
            "Collecting pylatexenc\n",
            "  Downloading pylatexenc-2.10.tar.gz (162 kB)\n",
            "\u001b[?25l     \u001b[90m━━━━━━━━━━━━━━━━━━━━━━━━━━━━━━━━━━━━━━━━\u001b[0m \u001b[32m0.0/162.6 kB\u001b[0m \u001b[31m?\u001b[0m eta \u001b[36m-:--:--\u001b[0m\r\u001b[2K     \u001b[91m━━━━━━━━━━━━━━━━━━━━━━━━━━━━━━\u001b[0m\u001b[90m╺\u001b[0m\u001b[90m━━━━━━━━━\u001b[0m \u001b[32m122.9/162.6 kB\u001b[0m \u001b[31m4.0 MB/s\u001b[0m eta \u001b[36m0:00:01\u001b[0m\r\u001b[2K     \u001b[90m━━━━━━━━━━━━━━━━━━━━━━━━━━━━━━━━━━━━━━━━\u001b[0m \u001b[32m162.6/162.6 kB\u001b[0m \u001b[31m3.1 MB/s\u001b[0m eta \u001b[36m0:00:00\u001b[0m\n",
            "\u001b[?25h  Preparing metadata (setup.py) ... \u001b[?25l\u001b[?25hdone\n",
            "Building wheels for collected packages: pylatexenc\n",
            "  Building wheel for pylatexenc (setup.py) ... \u001b[?25l\u001b[?25hdone\n",
            "  Created wheel for pylatexenc: filename=pylatexenc-2.10-py3-none-any.whl size=136817 sha256=b9f43b6fa377452b2e89cf66b1b1f4166683ffbab04a322232e7ba6fd4860580\n",
            "  Stored in directory: /root/.cache/pip/wheels/d3/31/8b/e09b0386afd80cfc556c00408c9aeea5c35c4d484a9c762fd5\n",
            "Successfully built pylatexenc\n",
            "Installing collected packages: pylatexenc\n",
            "Successfully installed pylatexenc-2.10\n"
          ]
        }
      ]
    },
    {
      "cell_type": "code",
      "execution_count": 2,
      "metadata": {
        "id": "QltcCItrYpnX"
      },
      "outputs": [],
      "source": [
        "from qiskit import QuantumCircuit,transpile,QuantumRegister\n",
        "from qiskit.circuit import Parameter\n",
        "from qiskit.primitives import Sampler,Estimator\n",
        "from tabulate import tabulate\n",
        "import numpy as np\n",
        "from qiskit.circuit.library import RealAmplitudes, PauliTwoDesign,EfficientSU2\n",
        "from qiskit.quantum_info import Pauli\n",
        "from qiskit_algorithms.optimizers import QNSPSA\n",
        "from qiskit_algorithms.gradients import DerivativeType, LinCombQGT\n",
        "from qiskit_algorithms.gradients import QFI\n"
      ]
    },
    {
      "cell_type": "code",
      "source": [
        "''' Pretty Printing Tensor object in form of a Matrix'''\n",
        "List=[]\n",
        "def display(tensor):\n",
        " global List\n",
        " for i in tensor:\n",
        "  for j in i:\n",
        "    for k in i:\n",
        "      trunc_list=[]\n",
        "    for l in k:\n",
        "      x=np.round(l,10)\n",
        "      trunc_list.append(x)\n",
        "  List.append(trunc_list)\n"
      ],
      "metadata": {
        "id": "ZyfGd9tnYwK6"
      },
      "execution_count": 3,
      "outputs": []
    },
    {
      "cell_type": "code",
      "source": [
        "'''\n",
        "You can define your own parameterized circuit first!\n",
        "'''\n",
        "depth=5\n",
        "qc=QuantumCircuit(depth)\n",
        "param_list=[Parameter(f\"X[{i}]\") for i in range (100)]\n",
        "#Just a long parameter list\n",
        "count=0\n",
        "for i in range (depth):\n",
        " qc.rx(param_list[count],i)\n",
        " count+=1\n",
        " qc.ry(param_list[count],i)\n",
        " count+=1\n",
        " qc.rz(param_list[count],i)\n",
        " count+=1\n",
        "qc.draw(output=\"mpl\",fold=-1)"
      ],
      "metadata": {
        "colab": {
          "base_uri": "https://localhost:8080/",
          "height": 384
        },
        "id": "CgdPb4T7ZAGg",
        "outputId": "4ab49afd-f587-4abc-f3ad-effa28f840c8"
      },
      "execution_count": 4,
      "outputs": [
        {
          "output_type": "execute_result",
          "data": {
            "text/plain": [
              "<Figure size 371.107x451.5 with 1 Axes>"
            ],
            "image/png": "[encoded data removed]"
          },
          "metadata": {},
          "execution_count": 4
        }
      ]
    },
    {
      "cell_type": "code",
      "source": [
        "'''\n",
        "Find the number of parameters you need to assign for the sample circuit\n",
        "'''\n",
        "print(\"Number of unassigned parameters: \",qc.num_parameters)\n",
        "#Randomly assign these unknown parameters\n",
        "param_values=np.random.uniform(-np.pi,np.pi,size=qc.num_parameters)\n",
        "print(\"Randomly Assigned Parameters:: \\n\",param_values) #ndarray"
      ],
      "metadata": {
        "colab": {
          "base_uri": "https://localhost:8080/"
        },
        "id": "Y3fxc8j5ZFrx",
        "outputId": "79d2dd19-ccd4-4a41-f913-4c0ad08b94a6"
      },
      "execution_count": 5,
      "outputs": [
        {
          "output_type": "stream",
          "name": "stdout",
          "text": [
            "Number of unassigned parameters:  15\n",
            "Randomly Assigned Parameters:: \n",
            " [-1.81444224 -0.27390179  2.39722297  3.11598949  1.86184961 -0.66076321\n",
            "  0.64138519 -0.31303105 -2.68514446 -1.77650618 -1.66604715  2.31944871\n",
            " -1.10352866  2.7360455   1.29671041]\n"
          ]
        }
      ]
    },
    {
      "cell_type": "code",
      "source": [
        "params=[param_values] #note the nested list, it can be used for finding multiple\n",
        "estimator=Estimator()\n",
        "qgt=LinCombQGT(\n",
        " estimator,\n",
        " derivative_type=DerivativeType.COMPLEX\n",
        ")\n",
        "print(\"Displaying Quantum Geometric Tensor:: \")\n",
        "qgt_result=qgt.run(qc,params).result().qgts\n",
        "qgt_result # Complex part included"
      ],
      "metadata": {
        "colab": {
          "base_uri": "https://localhost:8080/"
        },
        "id": "t-oCKP6AZ6RE",
        "outputId": "3799b9df-b3e6-48e8-afcd-668d4c364cdc"
      },
      "execution_count": 6,
      "outputs": [
        {
          "output_type": "stream",
          "name": "stderr",
          "text": [
            "<ipython-input-6-6abc23d9d993>:2: DeprecationWarning: The class ``qiskit.primitives.estimator.Estimator`` is deprecated as of qiskit 1.2. It will be removed no earlier than 3 months after the release date. All implementations of the `BaseEstimatorV1` interface have been deprecated in favor of their V2 counterparts. The V2 alternative for the `Estimator` class is `StatevectorEstimator`.\n",
            "  estimator=Estimator()\n"
          ]
        },
        {
          "output_type": "stream",
          "name": "stdout",
          "text": [
            "Displaying Quantum Geometric Tensor:: \n"
          ]
        },
        {
          "output_type": "execute_result",
          "data": {
            "text/plain": [
              "[array([[ 2.50000000e-01+8.40498308e-19j, -1.96579360e-17-1.81754302e-17j,\n",
              "          2.97897093e-17-6.10478056e-19j,  1.73472348e-18+2.60208521e-18j,\n",
              "         -1.99842980e-19+2.45628021e-19j,  1.61171474e-17+2.80027167e-20j,\n",
              "          2.66576552e-17-6.03106138e-02j, -1.49576480e-01-1.94400555e-01j,\n",
              "         -4.33680869e-17-2.08166817e-17j,  8.64487680e-18+8.10233462e-18j,\n",
              "          3.95951973e-17-9.85859503e-18j,  8.67361738e-18+4.33680869e-18j,\n",
              "         -9.18836285e-18-1.95269063e-17j,  2.70969109e-17+9.90113824e-18j,\n",
              "         -1.21430643e-17-8.67361738e-19j],\n",
              "        [-1.96579360e-17+1.81754302e-17j,  1.83151678e-02-5.51685756e-19j,\n",
              "          6.27127035e-02-1.83031735e-02j, -4.88312653e-17+6.24620503e-18j,\n",
              "         -5.20417043e-18-3.14138347e-17j, -5.55111512e-17-2.75376752e-19j,\n",
              "         -1.11022302e-16+1.54644688e-17j,  6.24500451e-17-8.82699549e-18j,\n",
              "          9.73183998e-18+3.86247024e-18j, -6.93889390e-17-7.95101807e-18j,\n",
              "         -3.46944695e-17+1.32857777e-17j,  6.78980676e-18-5.78014816e-18j,\n",
              "          8.32667268e-17-8.79820447e-19j,  1.38777878e-17-1.27915086e-17j,\n",
              "          1.66997147e-18+6.76667713e-02j],\n",
              "        [ 2.97897093e-17+6.10478056e-19j,  6.27127035e-02+1.83031735e-02j,\n",
              "          2.33024857e-01-2.24233556e-18j,  1.66132814e-18-1.26601773e-18j,\n",
              "         -1.30104261e-18+2.04603495e-18j,  3.46944695e-17+7.42635032e-18j,\n",
              "          1.38777878e-17+2.63748957e-17j, -1.38777878e-17-4.58859711e-18j,\n",
              "         -1.55728992e-17-3.22550146e-18j,  4.16333634e-17+1.24281272e-17j,\n",
              "         -4.85722573e-17+4.08445225e-18j,  1.16526642e-17+9.84038931e-18j,\n",
              "         -4.85722573e-17-2.36229621e-17j, -1.04083409e-17-5.75727831e-18j,\n",
              "          6.76224576e-02+2.31696822e-01j],\n",
              "        [ 1.73472348e-18-2.60208521e-18j, -4.88312653e-17-6.24620503e-18j,\n",
              "          1.66132814e-18+1.26601773e-18j,  2.50000000e-01-5.23719657e-19j,\n",
              "          1.75248730e-17-2.49918064e-01j, -2.39485539e-01-1.83657882e-03j,\n",
              "          1.50598369e-18-3.24070717e-18j, -3.33531827e-17-3.97047708e-18j,\n",
              "          6.93889390e-18-1.24683250e-18j, -2.21403639e-17+6.09417175e-18j,\n",
              "         -1.27224961e-18+2.54618717e-18j,  3.46944695e-18-2.60208521e-18j,\n",
              "         -2.61415418e-17-1.37570982e-17j, -4.64448012e-17-6.08479408e-18j,\n",
              "         -2.42861287e-17+5.17593673e-34j],\n",
              "        [-1.99842980e-19-2.45628021e-19j, -5.20417043e-18+3.14138347e-17j,\n",
              "         -1.30104261e-18-2.04603495e-18j,  1.75248730e-17+2.49918064e-01j,\n",
              "          2.49836155e-01+7.42871486e-19j,  1.83597690e-03-2.39407049e-01j,\n",
              "          1.38777878e-17-1.04562056e-17j,  1.60461922e-17+6.21551026e-18j,\n",
              "         -3.30291114e-18-5.20417043e-18j, -3.03576608e-18-1.17485502e-17j,\n",
              "          1.17093835e-17-8.80285877e-18j,  3.86913291e-18+6.73905092e-18j,\n",
              "         -1.73472348e-18+2.17805687e-17j, -2.86229374e-17+9.99684948e-18j,\n",
              "          4.44095512e-20+4.77117730e-18j],\n",
              "        [ 1.61171474e-17-2.80027167e-20j, -5.55111512e-17+2.75376752e-19j,\n",
              "          3.46944695e-17-7.42635032e-18j, -2.39485539e-01+1.83657882e-03j,\n",
              "          1.83597690e-03+2.39407049e-01j,  2.29426785e-01-2.24233556e-18j,\n",
              "          2.77555756e-17+4.67689068e-18j,  1.73472348e-18+3.99673811e-18j,\n",
              "          3.28283365e-17+2.41234983e-18j,  3.46944695e-17+1.49541572e-18j,\n",
              "         -1.38777878e-17-2.91664878e-18j,  8.33871389e-19+6.57616832e-18j,\n",
              "         -5.55111512e-17-1.03233458e-18j, -1.38777878e-17+4.47753919e-18j,\n",
              "         -1.78448702e-17+4.85194586e-18j],\n",
              "        [ 2.66576552e-17+6.03106138e-02j, -1.11022302e-16-1.54644688e-17j,\n",
              "          1.38777878e-17-2.63748957e-17j,  1.50598369e-18+3.24070717e-18j,\n",
              "          1.38777878e-17+1.04562056e-17j,  2.77555756e-17-4.67689068e-18j,\n",
              "          1.45494805e-02+2.29495566e-19j,  4.68976671e-02-3.60841974e-02j,\n",
              "         -3.40686564e-17+7.50810004e-18j,  4.16333634e-17+2.05152262e-17j,\n",
              "          6.93889390e-18+1.65344842e-17j, -1.51513938e-17+1.71166760e-17j,\n",
              "         -8.32667268e-17-2.08956316e-18j, -2.77555756e-17+1.41842867e-17j,\n",
              "         -1.90307230e-17+1.64140100e-17j],\n",
              "        [-1.49576480e-01+1.94400555e-01j,  6.24500451e-17+8.82699549e-18j,\n",
              "         -1.38777878e-17+4.58859711e-18j, -3.33531827e-17+3.97047708e-18j,\n",
              "          1.60461922e-17-6.21551026e-18j,  1.73472348e-18-3.99673811e-18j,\n",
              "          4.68976671e-02+3.60841974e-02j,  2.40658797e-01-2.24233556e-18j,\n",
              "          5.32991607e-17-2.90566182e-17j, -3.12250226e-17-2.66937016e-18j,\n",
              "         -1.56125113e-17+5.47941830e-19j, -1.51967012e-17-9.31520331e-18j,\n",
              "          5.55111512e-17+1.19799034e-17j, -1.73472348e-18-4.97145017e-19j,\n",
              "          3.35321704e-19-3.26938661e-18j],\n",
              "        [-4.33680869e-17+2.08166817e-17j,  9.73183998e-18-3.86247024e-18j,\n",
              "         -1.55728992e-17+3.22550146e-18j,  6.93889390e-18+1.24683250e-18j,\n",
              "         -3.30291114e-18+5.20417043e-18j,  3.28283365e-17-2.41234983e-18j,\n",
              "         -3.40686564e-17-7.50810004e-18j,  5.32991607e-17+2.90566182e-17j,\n",
              "          2.50000000e-01-9.17904201e-20j, -4.60197879e-18-2.24405915e-01j,\n",
              "          2.44729059e-01+2.25077789e-02j,  2.60208521e-17+5.74627151e-18j,\n",
              "          2.73171684e-17+2.16840434e-19j,  2.28111719e-17+8.13151629e-20j,\n",
              "         -2.08166817e-17+1.08420217e-17j],\n",
              "        [ 8.64487680e-18-8.10233462e-18j, -6.93889390e-17+7.95101807e-18j,\n",
              "          4.16333634e-17-1.24281272e-17j, -2.21403639e-17-6.09417175e-18j,\n",
              "         -3.03576608e-18+1.17485502e-17j,  3.46944695e-17-1.49541572e-18j,\n",
              "          4.16333634e-17-2.05152262e-17j, -3.12250226e-17+2.66937016e-18j,\n",
              "         -4.60197879e-18+2.24405915e-01j,  2.01432059e-01-1.21297383e-18j,\n",
              "         -2.02035149e-02+2.19674593e-01j, -3.11675414e-17+2.16553029e-17j,\n",
              "         -4.16333634e-17+1.63207417e-17j, -2.77555756e-17-4.15417381e-18j,\n",
              "          2.70484554e-18+2.25069339e-18j],\n",
              "        [ 3.95951973e-17+9.85859503e-18j, -3.46944695e-17-1.32857777e-17j,\n",
              "         -4.85722573e-17-4.08445225e-18j, -1.27224961e-18-2.54618717e-18j,\n",
              "          1.17093835e-17+8.80285877e-18j, -1.38777878e-17+2.91664878e-18j,\n",
              "          6.93889390e-18-1.65344842e-17j, -1.56125113e-17-5.47941830e-19j,\n",
              "          2.44729059e-01-2.25077789e-02j, -2.02035149e-02-2.19674593e-01j,\n",
              "          2.41595649e-01-2.24233556e-18j,  4.74444192e-17+5.55124907e-18j,\n",
              "          6.93889390e-18-1.30719631e-18j,  5.20417043e-18+1.88314287e-18j,\n",
              "         -5.52223283e-18+1.52441728e-17j],\n",
              "        [ 8.67361738e-18-4.33680869e-18j,  6.78980676e-18+5.78014816e-18j,\n",
              "          1.16526642e-17-9.84038931e-18j,  3.46944695e-18+2.60208521e-18j,\n",
              "          3.86913291e-18-6.73905092e-18j,  8.33871389e-19-6.57616832e-18j,\n",
              "         -1.51513938e-17-1.71166760e-17j, -1.51967012e-17+9.31520331e-18j,\n",
              "          2.60208521e-17-5.74627151e-18j, -3.11675414e-17-2.16553029e-17j,\n",
              "          4.74444192e-17-5.55124907e-18j,  2.50000000e-01+4.36326069e-19j,\n",
              "          1.29557148e-17-1.70163027e-01j,  2.23200599e-01+8.25004137e-02j,\n",
              "          3.46944695e-18+1.73472348e-17j],\n",
              "        [-9.18836285e-18+1.95269063e-17j,  8.32667268e-17+8.79820447e-19j,\n",
              "         -4.85722573e-17+2.36229621e-17j, -2.61415418e-17+1.37570982e-17j,\n",
              "         -1.73472348e-18-2.17805687e-17j, -5.55111512e-17+1.03233458e-18j,\n",
              "         -8.32667268e-17+2.08956316e-18j,  5.55111512e-17-1.19799034e-17j,\n",
              "          2.73171684e-17-2.16840434e-19j, -4.16333634e-17-1.63207417e-17j,\n",
              "          6.93889390e-18+1.30719631e-18j,  1.29557148e-17+1.70163027e-01j,\n",
              "          1.15821822e-01-1.18710475e-18j, -5.61540803e-02+1.51921958e-01j,\n",
              "         -2.19857675e-18-1.58604314e-17j],\n",
              "        [ 2.70969109e-17-9.90113824e-18j,  1.38777878e-17+1.27915086e-17j,\n",
              "         -1.04083409e-17+5.75727831e-18j, -4.64448012e-17+6.08479408e-18j,\n",
              "         -2.86229374e-17-9.99684948e-18j, -1.38777878e-17-4.47753919e-18j,\n",
              "         -2.77555756e-17-1.41842867e-17j, -1.73472348e-18+4.97145017e-19j,\n",
              "          2.28111719e-17-8.13151629e-20j, -2.77555756e-17+4.15417381e-18j,\n",
              "          5.20417043e-18-1.88314287e-18j,  2.23200599e-01-8.25004137e-02j,\n",
              "         -5.61540803e-02-1.51921958e-01j,  2.26499303e-01-2.24233556e-18j,\n",
              "         -8.14175334e-18-5.18567437e-18j],\n",
              "        [-1.21430643e-17+8.67361738e-19j,  1.66997147e-18-6.76667713e-02j,\n",
              "          6.76224576e-02-2.31696822e-01j, -2.42861287e-17-5.17593673e-34j,\n",
              "          4.44095512e-20-4.77117730e-18j, -1.78448702e-17-4.85194586e-18j,\n",
              "         -1.90307230e-17-1.64140100e-17j,  3.35321704e-19+3.26938661e-18j,\n",
              "         -2.08166817e-17-1.08420217e-17j,  2.70484554e-18-2.25069339e-18j,\n",
              "         -5.52223283e-18-1.52441728e-17j,  3.46944695e-18-1.73472348e-17j,\n",
              "         -2.19857675e-18+1.58604314e-17j, -8.14175334e-18+5.18567437e-18j,\n",
              "          2.50000000e-01-7.86692558e-19j]])]"
            ]
          },
          "metadata": {},
          "execution_count": 6
        }
      ]
    },
    {
      "cell_type": "code",
      "source": [
        "params=[param_values] #note the nested list, it can be used for finding multiple\n",
        "estimator=Estimator()\n",
        "qgt=LinCombQGT(\n",
        " estimator,\n",
        " derivative_type=DerivativeType.REAL\n",
        ")\n",
        "print(\"Displaying Quantum Geometric Tensor:: \")\n",
        "qgt_result=qgt.run(qc,params).result().qgts\n",
        "qgt_result # Only Real Part, we will use this for qfi calculation"
      ],
      "metadata": {
        "colab": {
          "base_uri": "https://localhost:8080/"
        },
        "id": "G_HaxLWtaACQ",
        "outputId": "2b3d2f00-4ee7-41b7-86f6-25df79438b29"
      },
      "execution_count": 7,
      "outputs": [
        {
          "output_type": "stream",
          "name": "stderr",
          "text": [
            "<ipython-input-7-8f875b74df92>:2: DeprecationWarning: The class ``qiskit.primitives.estimator.Estimator`` is deprecated as of qiskit 1.2. It will be removed no earlier than 3 months after the release date. All implementations of the `BaseEstimatorV1` interface have been deprecated in favor of their V2 counterparts. The V2 alternative for the `Estimator` class is `StatevectorEstimator`.\n",
            "  estimator=Estimator()\n"
          ]
        },
        {
          "output_type": "stream",
          "name": "stdout",
          "text": [
            "Displaying Quantum Geometric Tensor:: \n"
          ]
        },
        {
          "output_type": "execute_result",
          "data": {
            "text/plain": [
              "[array([[ 2.50000000e-01, -1.96579360e-17,  2.97897093e-17,\n",
              "          1.73472348e-18, -1.99842980e-19,  1.61171474e-17,\n",
              "          2.66576552e-17, -1.49576480e-01, -4.33680869e-17,\n",
              "          8.64487680e-18,  3.95951973e-17,  8.67361738e-18,\n",
              "         -9.18836285e-18,  2.70969109e-17, -1.21430643e-17],\n",
              "        [-1.96579360e-17,  1.83151678e-02,  6.27127035e-02,\n",
              "         -4.88312653e-17, -5.20417043e-18, -5.55111512e-17,\n",
              "         -1.11022302e-16,  6.24500451e-17,  9.73183998e-18,\n",
              "         -6.93889390e-17, -3.46944695e-17,  6.78980676e-18,\n",
              "          8.32667268e-17,  1.38777878e-17,  1.66997147e-18],\n",
              "        [ 2.97897093e-17,  6.27127035e-02,  2.33024857e-01,\n",
              "          1.66132814e-18, -1.30104261e-18,  3.46944695e-17,\n",
              "          1.38777878e-17, -1.38777878e-17, -1.55728992e-17,\n",
              "          4.16333634e-17, -4.85722573e-17,  1.16526642e-17,\n",
              "         -4.85722573e-17, -1.04083409e-17,  6.76224576e-02],\n",
              "        [ 1.73472348e-18, -4.88312653e-17,  1.66132814e-18,\n",
              "          2.50000000e-01,  1.75248730e-17, -2.39485539e-01,\n",
              "          1.50598369e-18, -3.33531827e-17,  6.93889390e-18,\n",
              "         -2.21403639e-17, -1.27224961e-18,  3.46944695e-18,\n",
              "         -2.61415418e-17, -4.64448012e-17, -2.42861287e-17],\n",
              "        [-1.99842980e-19, -5.20417043e-18, -1.30104261e-18,\n",
              "          1.75248730e-17,  2.49836155e-01,  1.83597690e-03,\n",
              "          1.38777878e-17,  1.60461922e-17, -3.30291114e-18,\n",
              "         -3.03576608e-18,  1.17093835e-17,  3.86913291e-18,\n",
              "         -1.73472348e-18, -2.86229374e-17,  4.44095512e-20],\n",
              "        [ 1.61171474e-17, -5.55111512e-17,  3.46944695e-17,\n",
              "         -2.39485539e-01,  1.83597690e-03,  2.29426785e-01,\n",
              "          2.77555756e-17,  1.73472348e-18,  3.28283365e-17,\n",
              "          3.46944695e-17, -1.38777878e-17,  8.33871389e-19,\n",
              "         -5.55111512e-17, -1.38777878e-17, -1.78448702e-17],\n",
              "        [ 2.66576552e-17, -1.11022302e-16,  1.38777878e-17,\n",
              "          1.50598369e-18,  1.38777878e-17,  2.77555756e-17,\n",
              "          1.45494805e-02,  4.68976671e-02, -3.40686564e-17,\n",
              "          4.16333634e-17,  6.93889390e-18, -1.51513938e-17,\n",
              "         -8.32667268e-17, -2.77555756e-17, -1.90307230e-17],\n",
              "        [-1.49576480e-01,  6.24500451e-17, -1.38777878e-17,\n",
              "         -3.33531827e-17,  1.60461922e-17,  1.73472348e-18,\n",
              "          4.68976671e-02,  2.40658797e-01,  5.32991607e-17,\n",
              "         -3.12250226e-17, -1.56125113e-17, -1.51967012e-17,\n",
              "          5.55111512e-17, -1.73472348e-18,  3.35321704e-19],\n",
              "        [-4.33680869e-17,  9.73183998e-18, -1.55728992e-17,\n",
              "          6.93889390e-18, -3.30291114e-18,  3.28283365e-17,\n",
              "         -3.40686564e-17,  5.32991607e-17,  2.50000000e-01,\n",
              "         -4.60197879e-18,  2.44729059e-01,  2.60208521e-17,\n",
              "          2.73171684e-17,  2.28111719e-17, -2.08166817e-17],\n",
              "        [ 8.64487680e-18, -6.93889390e-17,  4.16333634e-17,\n",
              "         -2.21403639e-17, -3.03576608e-18,  3.46944695e-17,\n",
              "          4.16333634e-17, -3.12250226e-17, -4.60197879e-18,\n",
              "          2.01432059e-01, -2.02035149e-02, -3.11675414e-17,\n",
              "         -4.16333634e-17, -2.77555756e-17,  2.70484554e-18],\n",
              "        [ 3.95951973e-17, -3.46944695e-17, -4.85722573e-17,\n",
              "         -1.27224961e-18,  1.17093835e-17, -1.38777878e-17,\n",
              "          6.93889390e-18, -1.56125113e-17,  2.44729059e-01,\n",
              "         -2.02035149e-02,  2.41595649e-01,  4.74444192e-17,\n",
              "          6.93889390e-18,  5.20417043e-18, -5.52223283e-18],\n",
              "        [ 8.67361738e-18,  6.78980676e-18,  1.16526642e-17,\n",
              "          3.46944695e-18,  3.86913291e-18,  8.33871389e-19,\n",
              "         -1.51513938e-17, -1.51967012e-17,  2.60208521e-17,\n",
              "         -3.11675414e-17,  4.74444192e-17,  2.50000000e-01,\n",
              "          1.29557148e-17,  2.23200599e-01,  3.46944695e-18],\n",
              "        [-9.18836285e-18,  8.32667268e-17, -4.85722573e-17,\n",
              "         -2.61415418e-17, -1.73472348e-18, -5.55111512e-17,\n",
              "         -8.32667268e-17,  5.55111512e-17,  2.73171684e-17,\n",
              "         -4.16333634e-17,  6.93889390e-18,  1.29557148e-17,\n",
              "          1.15821822e-01, -5.61540803e-02, -2.19857675e-18],\n",
              "        [ 2.70969109e-17,  1.38777878e-17, -1.04083409e-17,\n",
              "         -4.64448012e-17, -2.86229374e-17, -1.38777878e-17,\n",
              "         -2.77555756e-17, -1.73472348e-18,  2.28111719e-17,\n",
              "         -2.77555756e-17,  5.20417043e-18,  2.23200599e-01,\n",
              "         -5.61540803e-02,  2.26499303e-01, -8.14175334e-18],\n",
              "        [-1.21430643e-17,  1.66997147e-18,  6.76224576e-02,\n",
              "         -2.42861287e-17,  4.44095512e-20, -1.78448702e-17,\n",
              "         -1.90307230e-17,  3.35321704e-19, -2.08166817e-17,\n",
              "          2.70484554e-18, -5.52223283e-18,  3.46944695e-18,\n",
              "         -2.19857675e-18, -8.14175334e-18,  2.50000000e-01]])]"
            ]
          },
          "metadata": {},
          "execution_count": 7
        }
      ]
    },
    {
      "cell_type": "code",
      "source": [
        "display(qgt_result)\n",
        "print(tabulate(List,tablefmt=\"fancy_grid\"))"
      ],
      "metadata": {
        "colab": {
          "base_uri": "https://localhost:8080/"
        },
        "id": "Grib6HzvaFmz",
        "outputId": "5c2ce6c4-f89b-4159-e3ba-d6488ea579f6"
      },
      "execution_count": 8,
      "outputs": [
        {
          "output_type": "stream",
          "name": "stdout",
          "text": [
            "╒════╤═══╤═══════════╤════╤═══╤════╤════╤═══╤════╤═══╤════╤═══╤════╤════╤══════╕\n",
            "│ -0 │ 0 │ 0.0676225 │ -0 │ 0 │ -0 │ -0 │ 0 │ -0 │ 0 │ -0 │ 0 │ -0 │ -0 │ 0.25 │\n",
            "╘════╧═══╧═══════════╧════╧═══╧════╧════╧═══╧════╧═══╧════╧═══╧════╧════╧══════╛\n"
          ]
        }
      ]
    },
    {
      "cell_type": "code",
      "source": [
        "List=[]\n",
        "qfi=QFI(qgt)\n",
        "qfi_result=qfi.run(qc,params).result().qfis\n",
        "print(\"Quantum Fisher Information Matrix:: \")\n",
        "display(qfi_result)\n",
        "print(tabulate(List,tablefmt=\"fancy_grid\"))"
      ],
      "metadata": {
        "colab": {
          "base_uri": "https://localhost:8080/"
        },
        "id": "AeL7FGj_aNeW",
        "outputId": "4b616a1b-3c40-420d-fa00-02612f3c505c"
      },
      "execution_count": 9,
      "outputs": [
        {
          "output_type": "stream",
          "name": "stdout",
          "text": [
            "Quantum Fisher Information Matrix:: \n",
            "╒════╤═══╤═════════╤════╤═══╤════╤════╤═══╤════╤═══╤════╤═══╤════╤════╤═══╕\n",
            "│ -0 │ 0 │ 0.27049 │ -0 │ 0 │ -0 │ -0 │ 0 │ -0 │ 0 │ -0 │ 0 │ -0 │ -0 │ 1 │\n",
            "╘════╧═══╧═════════╧════╧═══╧════╧════╧═══╧════╧═══╧════╧═══╧════╧════╧═══╛\n"
          ]
        }
      ]
    },
    {
      "cell_type": "markdown",
      "source": [
        "Let us see the same for an ansatz: RealAmplitude"
      ],
      "metadata": {
        "id": "o8WlJ0ffaaaI"
      }
    },
    {
      "cell_type": "code",
      "source": [
        "circ=RealAmplitudes(\n",
        " num_qubits=depth,\n",
        " reps=2,\n",
        " entanglement=\"pairwise\",\n",
        ")\n",
        "print(\"Number of unassigned parameters in the circuit: \",circ.num_parameters)"
      ],
      "metadata": {
        "colab": {
          "base_uri": "https://localhost:8080/"
        },
        "id": "LETZ6WThaTdu",
        "outputId": "769acf08-8994-4abc-84a2-cfd8a7073ffb"
      },
      "execution_count": 10,
      "outputs": [
        {
          "output_type": "stream",
          "name": "stdout",
          "text": [
            "Number of unassigned parameters in the circuit:  15\n"
          ]
        }
      ]
    },
    {
      "cell_type": "code",
      "source": [
        "circ.decompose().draw(output=\"mpl\",fold=-1)\n"
      ],
      "metadata": {
        "colab": {
          "base_uri": "https://localhost:8080/",
          "height": 384
        },
        "id": "_2MQWxRWadqy",
        "outputId": "9d3cc67a-0758-4525-a77d-17fd97fc090a"
      },
      "execution_count": 11,
      "outputs": [
        {
          "output_type": "execute_result",
          "data": {
            "text/plain": [
              "<Figure size 705.552x451.5 with 1 Axes>"
            ],
            "image/png": "[encoded data removed]"
          },
          "metadata": {},
          "execution_count": 11
        }
      ]
    },
    {
      "cell_type": "code",
      "source": [
        "ansatz_param_val=np.random.uniform(\n",
        " 2*-np.pi,2*np.pi,size=circ.num_parameters\n",
        ")\n",
        "print(\"List of randomly generated Parameters: \\n\",ansatz_param_val)"
      ],
      "metadata": {
        "colab": {
          "base_uri": "https://localhost:8080/"
        },
        "id": "0TT9REAdaf-X",
        "outputId": "ab3add3c-b569-497c-93db-893900ec326a"
      },
      "execution_count": 12,
      "outputs": [
        {
          "output_type": "stream",
          "name": "stdout",
          "text": [
            "List of randomly generated Parameters: \n",
            " [-1.14226206  4.76547046  3.7436787  -3.58797732 -0.2701737   1.8356416\n",
            "  0.45712191  0.63720764  0.95234146  1.2171826   6.06526321  2.29035493\n",
            " -1.65102261 -1.3319395   2.0997484 ]\n"
          ]
        }
      ]
    },
    {
      "cell_type": "code",
      "source": [
        "params=[ansatz_param_val] #note the nested list, it can be used for finding mult\n",
        "estimator=Estimator()\n",
        "qgt=LinCombQGT(\n",
        " estimator,\n",
        " derivative_type=DerivativeType.REAL\n",
        ")\n",
        "print(\"Displaying Quantum Geometric Tensor:: \")\n",
        "qgt_result=qgt.run(qc,params).result().qgts\n",
        "qgt_result"
      ],
      "metadata": {
        "colab": {
          "base_uri": "https://localhost:8080/"
        },
        "id": "VV3jT9YAajJ1",
        "outputId": "936dadf4-9fd1-4f17-d61d-82b3e015aa2e"
      },
      "execution_count": 13,
      "outputs": [
        {
          "output_type": "stream",
          "name": "stderr",
          "text": [
            "<ipython-input-13-0c9f012c7ecd>:2: DeprecationWarning: The class ``qiskit.primitives.estimator.Estimator`` is deprecated as of qiskit 1.2. It will be removed no earlier than 3 months after the release date. All implementations of the `BaseEstimatorV1` interface have been deprecated in favor of their V2 counterparts. The V2 alternative for the `Estimator` class is `StatevectorEstimator`.\n",
            "  estimator=Estimator()\n"
          ]
        },
        {
          "output_type": "stream",
          "name": "stdout",
          "text": [
            "Displaying Quantum Geometric Tensor:: \n"
          ]
        },
        {
          "output_type": "execute_result",
          "data": {
            "text/plain": [
              "[array([[ 2.50000000e-01, -2.17833712e-17, -1.33697927e-17,\n",
              "          8.67361738e-18, -9.15622020e-18, -4.32312163e-18,\n",
              "         -4.15439996e-17, -1.10341838e-01, -1.38777878e-17,\n",
              "          3.97452981e-17,  3.12955649e-18, -5.26621469e-34,\n",
              "          1.42699354e-17,  1.28756690e-17, -2.08166817e-17],\n",
              "        [-2.17833712e-17,  6.36625820e-02, -5.77871447e-03,\n",
              "         -1.19059907e-17,  1.38777878e-17,  2.77555756e-17,\n",
              "         -5.55111512e-17, -1.38777878e-17, -2.17281862e-17,\n",
              "          8.32667268e-17, -4.85722573e-17,  5.99059941e-18,\n",
              "          5.55111512e-17,  1.90819582e-17, -1.47451495e-17],\n",
              "        [-1.33697927e-17, -5.77871447e-03,  2.49820790e-01,\n",
              "          3.42300169e-18,  4.77048956e-18, -1.12757026e-17,\n",
              "         -1.56125113e-17,  4.33680869e-18,  2.03580347e-17,\n",
              "          3.29597460e-17,  1.95156391e-18,  7.89716901e-18,\n",
              "          1.82145965e-17,  2.08708918e-17,  2.49647877e-01],\n",
              "        [ 8.67361738e-18, -1.19059907e-17,  3.42300169e-18,\n",
              "          2.50000000e-01,  1.41046770e-17,  6.67247096e-02,\n",
              "         -5.36103142e-18, -1.32309557e-17,  2.42861287e-17,\n",
              "         -2.74342619e-17, -6.59061163e-18,  1.38777878e-17,\n",
              "          2.16476714e-18,  9.16222896e-20, -5.20417043e-18],\n",
              "        [-9.15622020e-18,  1.38777878e-17,  4.77048956e-18,\n",
              "          1.41046770e-17,  2.03407205e-01, -9.38200089e-02,\n",
              "         -4.16333634e-17, -6.93889390e-18,  1.68908127e-17,\n",
              "          4.16333634e-17, -6.93889390e-18, -3.51683454e-17,\n",
              "          0.00000000e+00, -1.64798730e-17,  3.46944695e-18],\n",
              "        [-4.32312163e-18,  2.77555756e-17, -1.12757026e-17,\n",
              "          6.67247096e-02, -9.38200089e-02,  6.10825049e-02,\n",
              "         -5.55111512e-17, -2.77555756e-17,  5.92535318e-18,\n",
              "          0.00000000e+00, -4.16333634e-17, -2.09511510e-17,\n",
              "          5.55111512e-17,  1.21430643e-17,  3.63885354e-18],\n",
              "        [-4.15439996e-17, -5.55111512e-17, -1.56125113e-17,\n",
              "         -5.36103142e-18, -4.16333634e-17, -5.55111512e-17,\n",
              "          4.31679692e-02, -8.47891349e-02,  1.55813920e-17,\n",
              "         -8.32667268e-17, -1.38777878e-17, -2.01892377e-17,\n",
              "         -1.11022302e-16, -4.16333634e-17,  6.93889390e-18],\n",
              "        [-1.10341838e-01, -1.38777878e-17,  4.33680869e-18,\n",
              "         -1.32309557e-17, -6.93889390e-18, -2.77555756e-17,\n",
              "         -8.47891349e-02,  2.15241373e-01,  2.72041486e-17,\n",
              "         -4.16333634e-17, -3.46944695e-18,  4.35156554e-18,\n",
              "         -1.38777878e-17, -1.99493200e-17, -3.46944695e-17],\n",
              "        [-1.38777878e-17, -2.17281862e-17,  2.03580347e-17,\n",
              "          2.42861287e-17,  1.68908127e-17,  5.92535318e-18,\n",
              "          1.55813920e-17,  2.72041486e-17,  2.50000000e-01,\n",
              "          6.85926015e-18, -2.34531860e-01,  1.04083409e-17,\n",
              "          1.48718625e-17,  9.04770110e-19, -1.73472348e-17],\n",
              "        [ 3.97452981e-17,  8.32667268e-17,  3.29597460e-17,\n",
              "         -2.74342619e-17,  4.16333634e-17,  0.00000000e+00,\n",
              "         -8.32667268e-17, -4.16333634e-17,  6.85926015e-18,\n",
              "          8.40353172e-02,  4.08958241e-02,  3.34092147e-17,\n",
              "          5.55111512e-17,  2.08166817e-17,  1.04083409e-17],\n",
              "        [ 3.12955649e-18, -4.85722573e-17,  1.95156391e-18,\n",
              "         -6.59061163e-18, -6.93889390e-18, -4.16333634e-17,\n",
              "         -1.38777878e-17, -3.46944695e-18, -2.34531860e-01,\n",
              "          4.08958241e-02,  2.39922745e-01,  3.33013404e-17,\n",
              "          0.00000000e+00,  4.03323208e-17,  2.08166817e-17],\n",
              "        [-5.26621469e-34,  5.99059941e-18,  7.89716901e-18,\n",
              "          1.38777878e-17, -3.51683454e-17, -2.09511510e-17,\n",
              "         -2.01892377e-17,  4.35156554e-18,  1.04083409e-17,\n",
              "          3.34092147e-17,  3.33013404e-17,  2.50000000e-01,\n",
              "          1.74927228e-18,  2.49195899e-01, -4.66206934e-18],\n",
              "        [ 1.42699354e-17,  5.55111512e-17,  1.82145965e-17,\n",
              "          2.16476714e-18,  0.00000000e+00,  5.55111512e-17,\n",
              "         -1.11022302e-16, -1.38777878e-17,  1.48718625e-17,\n",
              "          5.55111512e-17,  0.00000000e+00,  1.74927228e-18,\n",
              "          1.08587637e-01,  9.93080784e-03, -1.73472348e-17],\n",
              "        [ 1.28756690e-17,  1.90819582e-17,  2.08708918e-17,\n",
              "          9.16222896e-20, -1.64798730e-17,  1.21430643e-17,\n",
              "         -4.16333634e-17, -1.99493200e-17,  9.04770110e-19,\n",
              "          2.08166817e-17,  4.03323208e-17,  2.49195899e-01,\n",
              "          9.93080784e-03,  2.49302600e-01,  2.60886148e-17],\n",
              "        [-2.08166817e-17, -1.47451495e-17,  2.49647877e-01,\n",
              "         -5.20417043e-18,  3.46944695e-18,  3.63885354e-18,\n",
              "          6.93889390e-18, -3.46944695e-17, -1.73472348e-17,\n",
              "          1.04083409e-17,  2.08166817e-17, -4.66206934e-18,\n",
              "         -1.73472348e-17,  2.60886148e-17,  2.50000000e-01]])]"
            ]
          },
          "metadata": {},
          "execution_count": 13
        }
      ]
    },
    {
      "cell_type": "code",
      "source": [
        "List=[]\n",
        "#Insignificantly small numbers are rounded to 0\n",
        "display(qgt_result)\n",
        "print(tabulate(List,tablefmt=\"fancy_grid\"))"
      ],
      "metadata": {
        "colab": {
          "base_uri": "https://localhost:8080/"
        },
        "id": "7xt7lCpgalp-",
        "outputId": "c610e64f-2c00-4acb-e9a5-a942f03de5e8"
      },
      "execution_count": 14,
      "outputs": [
        {
          "output_type": "stream",
          "name": "stdout",
          "text": [
            "╒════╤════╤══════════╤════╤═══╤═══╤═══╤════╤════╤═══╤═══╤════╤════╤═══╤══════╕\n",
            "│ -0 │ -0 │ 0.249648 │ -0 │ 0 │ 0 │ 0 │ -0 │ -0 │ 0 │ 0 │ -0 │ -0 │ 0 │ 0.25 │\n",
            "╘════╧════╧══════════╧════╧═══╧═══╧═══╧════╧════╧═══╧═══╧════╧════╧═══╧══════╛\n"
          ]
        }
      ]
    },
    {
      "cell_type": "code",
      "source": [
        "'''\n",
        "I am dynamically defining a function for your versatile usage with any\n",
        "parameterized quantum circuit.\n",
        "'''\n",
        "def get_fisher_matrix(circuit):\n",
        " '''\n",
        " Expecting the circuit is parameterized and has placeholder parameter list\n",
        " embedded inside.\n",
        " '''\n",
        " param_values=np.random.uniform(-np.pi,np.pi,size=circuit.num_parameters)\n",
        " params=[param_values] #note the nested list, it can be used for finding mult\n",
        " estimator=Estimator()\n",
        " qgt=LinCombQGT(\n",
        " estimator,\n",
        " derivative_type=DerivativeType.REAL\n",
        " )\n",
        " print(\"Calculating Quantum Geometric Tensor....\")\n",
        " qgt_result=qgt.run(circ,params).result().qgts\n",
        " print(\"QGT calculated successfully! \")\n",
        " qfi = QFI(qgt)\n",
        " # Evaluate the QFI\n",
        " print(\"Calculating the QFI...\")\n",
        " qfi_result = qfi.run(circ, params).result().qfis\n",
        " print(\"QFI Calculated successfully!\")\n",
        " return qfi_result"
      ],
      "metadata": {
        "id": "T7qcpY0Oap9z"
      },
      "execution_count": 15,
      "outputs": []
    },
    {
      "cell_type": "code",
      "source": [
        "circ=EfficientSU2(num_qubits=3,entanglement=\"pairwise\")\n",
        "List=get_fisher_matrix(circ)"
      ],
      "metadata": {
        "colab": {
          "base_uri": "https://localhost:8080/"
        },
        "id": "kJiGBySZa2Og",
        "outputId": "b76f3db6-d9d0-4305-debc-db64faa37afe"
      },
      "execution_count": 16,
      "outputs": [
        {
          "output_type": "stream",
          "name": "stderr",
          "text": [
            "<ipython-input-15-ead0a7445d71>:12: DeprecationWarning: The class ``qiskit.primitives.estimator.Estimator`` is deprecated as of qiskit 1.2. It will be removed no earlier than 3 months after the release date. All implementations of the `BaseEstimatorV1` interface have been deprecated in favor of their V2 counterparts. The V2 alternative for the `Estimator` class is `StatevectorEstimator`.\n",
            "  estimator=Estimator()\n"
          ]
        },
        {
          "output_type": "stream",
          "name": "stdout",
          "text": [
            "Calculating Quantum Geometric Tensor....\n",
            "QGT calculated successfully! \n",
            "Calculating the QFI...\n",
            "QFI Calculated successfully!\n"
          ]
        }
      ]
    },
    {
      "cell_type": "code",
      "source": [
        "circ.decompose().draw(output=\"mpl\",fold=-1)"
      ],
      "metadata": {
        "colab": {
          "base_uri": "https://localhost:8080/",
          "height": 255
        },
        "id": "-fNO7TU9a3hB",
        "outputId": "6848b316-32b3-4e00-c126-0f1e39fe2118"
      },
      "execution_count": 17,
      "outputs": [
        {
          "output_type": "execute_result",
          "data": {
            "text/plain": [
              "<Figure size 1290.83x284.278 with 1 Axes>"
            ],
            "image/png": "[encoded data removed]"
          },
          "metadata": {},
          "execution_count": 17
        }
      ]
    },
    {
      "cell_type": "code",
      "source": [
        "for i in List:\n",
        " for j in i:\n",
        "    print(j,end=\"\\n\")\n",
        " print(\"\\n\\n\")"
      ],
      "metadata": {
        "colab": {
          "base_uri": "https://localhost:8080/"
        },
        "id": "4EpaeKPCa7FZ",
        "outputId": "37e234d7-87a7-4963-f6ad-3e5efcfb548f"
      },
      "execution_count": 19,
      "outputs": [
        {
          "output_type": "stream",
          "name": "stdout",
          "text": [
            "[ 1.00000000e+00  1.66533454e-16  4.04445288e-33  6.97672302e-17\n",
            " -7.40153271e-18 -1.64696992e-17 -1.08760258e-01 -4.22048429e-17\n",
            "  5.19950590e-19  1.44129887e-01 -7.01259520e-18 -1.29690280e-16\n",
            "  1.74738711e-01 -1.33436906e-01 -2.27233373e-01  1.17719309e-01\n",
            " -6.51822670e-03 -2.21175220e-01 -1.69471932e-01  1.30173975e-01\n",
            "  7.35925649e-03 -1.36779050e-01 -3.41035120e-01  9.56891072e-02]\n",
            "[ 1.66533454e-16  1.00000000e+00  2.22044605e-16 -7.76518519e-17\n",
            " -2.96057867e-17  2.98883717e-17 -1.17935943e-01  8.96434085e-02\n",
            " -1.68353281e-16 -3.25916141e-02  2.78651262e-01  2.37045593e-17\n",
            " -2.43443142e-02  9.42827435e-02  3.55917507e-01 -4.32434608e-02\n",
            "  9.05660434e-01  3.68628384e-01 -3.99734432e-03 -6.17767490e-02\n",
            "  2.71222966e-01  3.57271893e-02  6.68309892e-01 -7.72459940e-02]\n",
            "[ 4.04445288e-33  2.22044605e-16  1.00000000e+00 -7.02716184e-17\n",
            " -2.04774362e-16  1.99255811e-17  1.07910449e-16 -1.91860695e-01\n",
            "  1.72454888e-01  1.16794805e-16  4.54344852e-02 -1.78833488e-01\n",
            "  7.28987296e-02 -7.56896154e-01 -6.58449208e-01  3.89274307e-02\n",
            "  5.56511926e-02  3.58047856e-01 -1.66229195e-02 -1.11013406e-01\n",
            "  1.33574672e-01  4.15550894e-02  1.24064215e-01 -1.48545478e-01]\n",
            "[ 6.97672302e-17 -7.76518519e-17 -7.02716184e-17  1.80899394e-02\n",
            "  1.11022302e-16 -3.33066907e-16  3.17421767e-02 -5.83468402e-03\n",
            " -2.27993169e-04 -5.62948640e-03  1.69324322e-03  1.45369171e-03\n",
            "  2.15872517e-04  8.74495281e-04 -1.80395006e-02 -1.38586375e-02\n",
            " -1.35659592e-02 -2.20807553e-02  1.59723308e-02 -1.66586017e-02\n",
            " -3.91083401e-02  6.56875395e-03  2.34269143e-02  1.93097146e-02]\n",
            "[-7.40153271e-18 -2.96057867e-17 -2.04774362e-16  1.11022302e-16\n",
            "  9.68394670e-01 -1.11022302e-16  5.69483330e-03  5.68193484e-02\n",
            " -6.80287988e-02  1.57376797e-03  4.91775998e-01  4.33753789e-01\n",
            " -6.59883185e-02 -1.41339021e-01  1.08570625e-01 -2.06118930e-02\n",
            "  9.34641430e-02  2.86244580e-01 -1.27242662e-02  2.19541379e-01\n",
            " -1.33120454e-01  4.09061339e-02 -3.02985726e-01  1.27573881e-01]\n",
            "[-1.64696992e-17  2.98883717e-17  1.99255811e-17 -3.33066907e-16\n",
            " -1.11022302e-16  1.20635503e-01  1.59594560e-16 -2.99709527e-01\n",
            " -1.17112983e-02  2.22044605e-16  7.09741411e-02 -2.89603274e-01\n",
            "  1.13876600e-01  2.47901725e-02  5.52975184e-02  6.08093377e-02\n",
            " -1.42431460e-02  6.11882037e-02  6.28890769e-02 -1.89729073e-01\n",
            " -6.23993454e-02 -5.53527688e-02 -1.32243480e-03 -1.95257822e-01]\n",
            "[-1.08760258e-01 -1.17935943e-01  1.07910449e-16  3.17421767e-02\n",
            "  5.69483330e-03  1.59594560e-16  9.98973872e-01 -6.86086143e-03\n",
            " -4.15726140e-03 -2.55535888e-02 -2.06727721e-03  2.65068312e-02\n",
            "  2.36631600e-01  4.80334641e-03  6.23106837e-03 -9.69159291e-02\n",
            " -9.74822570e-02  1.35815313e-02  4.55052241e-01 -6.75025149e-02\n",
            "  8.34246921e-03 -6.85103623e-02 -5.12368719e-02 -8.68112029e-02]\n",
            "[-4.22048429e-17  8.96434085e-02 -1.91860695e-01 -5.83468402e-03\n",
            "  5.68193484e-02 -2.99709527e-01 -6.86086143e-03  8.97851459e-01\n",
            "  2.41533714e-01 -2.65974464e-03  5.38335917e-02  7.62755124e-01\n",
            " -3.03486574e-01  6.74321597e-02  6.21695538e-02 -1.71046251e-01\n",
            "  1.32789751e-01  4.80523339e-02 -1.61804659e-01  4.90290262e-01\n",
            "  2.07802608e-02  1.42914080e-01  3.55286234e-02  5.92260077e-01]\n",
            "[ 5.19950590e-19 -1.68353281e-16  1.72454888e-01 -2.27993169e-04\n",
            " -6.80287988e-02 -1.17112983e-02 -4.15726140e-03  2.41533714e-01\n",
            "  9.99844030e-01  5.05002540e-03  7.14172436e-01 -2.72601457e-03\n",
            "  5.57102343e-02 -1.54449609e-01 -7.90342463e-02 -3.93612645e-02\n",
            " -1.52852332e-01  6.75008688e-01 -3.99442682e-02  1.86334885e-02\n",
            " -7.42438039e-02  4.85250924e-02  2.29154432e-01  1.26887985e-01]\n",
            "[ 1.44129887e-01 -3.25916141e-02  1.16794805e-16 -5.62948640e-03\n",
            "  1.57376797e-03  2.22044605e-16 -2.55535888e-02 -2.65974464e-03\n",
            "  5.05002540e-03  3.63641128e-01 -4.66087254e-02 -3.21991229e-02\n",
            "  9.14444128e-02 -6.81234344e-02 -6.42873398e-02  3.85587208e-01\n",
            " -3.34010278e-02  1.19457945e-02 -3.88915427e-01  1.33098980e-01\n",
            " -1.67476636e-02 -4.16264425e-01  2.01152621e-02  1.64043843e-01]\n",
            "[-7.01259520e-18  2.78651262e-01  4.54344852e-02  1.69324322e-03\n",
            "  4.91775998e-01  7.09741411e-02 -2.06727721e-03  5.38335917e-02\n",
            "  7.14172436e-01 -4.66087254e-02  9.71629006e-01  7.94030941e-02\n",
            " -1.93082715e-02 -2.52569166e-02  2.46105298e-01 -5.37904494e-02\n",
            "  1.50104905e-01  7.61989844e-01  5.03143151e-02 -2.11530721e-02\n",
            " -6.63853536e-02  5.88709899e-02  1.83158714e-01 -1.94738644e-02]\n",
            "[-1.29690280e-16  2.37045593e-17 -1.78833488e-01  1.45369171e-03\n",
            "  4.33753789e-01 -2.89603274e-01  2.65068312e-02  7.62755124e-01\n",
            " -2.72601457e-03 -3.21991229e-02  7.94030941e-02  9.52355235e-01\n",
            " -3.04876087e-01  3.27303503e-02  4.24589512e-02 -1.95851154e-01\n",
            "  5.99001527e-03 -9.75930065e-02 -1.04135902e-01  5.60723480e-01\n",
            "  1.66956524e-01  1.76163090e-01 -1.07815466e-01  4.93245819e-01]\n",
            "[ 1.74738711e-01 -2.43443142e-02  7.28987296e-02  2.15872517e-04\n",
            " -6.59883185e-02  1.13876600e-01  2.36631600e-01 -3.03486574e-01\n",
            "  5.57102343e-02  9.14444128e-02 -1.93082715e-02 -3.04876087e-01\n",
            "  9.86859489e-01 -4.66885325e-01 -4.19927172e-01  7.61566364e-02\n",
            " -3.91400702e-02  1.95158382e-01  2.01216339e-01 -8.23108719e-02\n",
            " -4.75292090e-02 -7.11562407e-02  1.50356608e-02 -8.02210977e-02]\n",
            "[-1.33436906e-01  9.42827435e-02 -7.56896154e-01  8.74495281e-04\n",
            " -1.41339021e-01  2.47901725e-02  4.80334641e-03  6.74321597e-02\n",
            " -1.54449609e-01 -6.81234344e-02 -2.52569166e-02  3.27303503e-02\n",
            " -4.66885325e-01  9.77515351e-01  8.62853751e-01  5.66832810e-02\n",
            " -4.22774766e-03 -3.88811592e-01  1.20617722e-01 -1.05190857e-01\n",
            " -6.21723840e-02 -1.54686105e-01  4.69311223e-02 -7.47396278e-02]\n",
            "[-0.22723337  0.35591751 -0.65844921 -0.0180395   0.10857063  0.05529752\n",
            "  0.00623107  0.06216955 -0.07903425 -0.06428734  0.2461053   0.04245895\n",
            " -0.41992717  0.86285375  0.96216242  0.05929389  0.28680152 -0.01886262\n",
            "  0.1138686  -0.12291052 -0.0239265  -0.14062892  0.19161979 -0.11252769]\n",
            "[ 0.11771931 -0.04324346  0.03892743 -0.01385864 -0.02061189  0.06080934\n",
            " -0.09691593 -0.17104625 -0.03936126  0.38558721 -0.05379045 -0.19585115\n",
            "  0.07615664  0.05668328  0.05929389  0.55862954 -0.03855976 -0.01586889\n",
            " -0.33088527 -0.00321523 -0.10409329 -0.58893473  0.02399245  0.05298873]\n",
            "[-0.00651823  0.90566043  0.05565119 -0.01356596  0.09346414 -0.01424315\n",
            " -0.09748226  0.13278975 -0.15285233 -0.03340103  0.1501049   0.00599002\n",
            " -0.03914007 -0.00422775  0.28680152 -0.03855976  0.99920506  0.35456371\n",
            "  0.01404241 -0.02024497  0.04427572  0.0394575   0.41867561  0.02245861]\n",
            "[-0.22117522  0.36862838  0.35804786 -0.02208076  0.28624458  0.0611882\n",
            "  0.01358153  0.04805233  0.67500869  0.01194579  0.76198984 -0.09759301\n",
            "  0.19515838 -0.38881159 -0.01886262 -0.01586889  0.35456371  0.99059669\n",
            " -0.02194598 -0.06962922 -0.04020637  0.06061886  0.37373234 -0.0036213 ]\n",
            "[-0.16947193 -0.00399734 -0.01662292  0.01597233 -0.01272427  0.06288908\n",
            "  0.45505224 -0.16180466 -0.03994427 -0.38891543  0.05031432 -0.1041359\n",
            "  0.20121634  0.12061772  0.1138686  -0.33088527  0.01404241 -0.02194598\n",
            "  0.75194293 -0.27708687 -0.1016992   0.28856229 -0.07364417 -0.29360107]\n",
            "[ 0.13017397 -0.06177675 -0.11101341 -0.0166586   0.21954138 -0.18972907\n",
            " -0.06750251  0.49029026  0.01863349  0.13309898 -0.02115307  0.56072348\n",
            " -0.08231087 -0.10519086 -0.12291052 -0.00321523 -0.02024497 -0.06962922\n",
            " -0.27708687  0.48441276  0.0916281  -0.00246148 -0.17827875  0.41213189]\n",
            "[ 0.00735926  0.27122297  0.13357467 -0.03910834 -0.13312045 -0.06239935\n",
            "  0.00834247  0.02078026 -0.0742438  -0.01674766 -0.06638535  0.16695652\n",
            " -0.04752921 -0.06217238 -0.0239265  -0.10409329  0.04427572 -0.04020637\n",
            " -0.1016992   0.0916281   0.82808692  0.11417494  0.39096982 -0.25989522]\n",
            "[-0.13677905  0.03572719  0.04155509  0.00656875  0.04090613 -0.05535277\n",
            " -0.06851036  0.14291408  0.04852509 -0.41626443  0.05887099  0.17616309\n",
            " -0.07115624 -0.15468611 -0.14062892 -0.58893473  0.0394575   0.06061886\n",
            "  0.28856229 -0.00246148  0.11417494  0.66431839 -0.02396424 -0.06756186]\n",
            "[-0.34103512  0.66830989  0.12406421  0.02342691 -0.30298573 -0.00132243\n",
            " -0.05123687  0.03552862  0.22915443  0.02011526  0.18315871 -0.10781547\n",
            "  0.01503566  0.04693112  0.19161979  0.02399245  0.41867561  0.37373234\n",
            " -0.07364417 -0.17827875  0.39096982 -0.02396424  0.93835512 -0.12172238]\n",
            "[ 0.09568911 -0.07724599 -0.14854548  0.01930971  0.12757388 -0.19525782\n",
            " -0.0868112   0.59226008  0.12688799  0.16404384 -0.01947386  0.49324582\n",
            " -0.0802211  -0.07473963 -0.11252769  0.05298873  0.02245861 -0.0036213\n",
            " -0.29360107  0.41213189 -0.25989522 -0.06756186 -0.12172238  0.60709491]\n",
            "\n",
            "\n",
            "\n"
          ]
        }
      ]
    },
    {
      "cell_type": "code",
      "source": [],
      "metadata": {
        "id": "eJkOro5Ka_D_"
      },
      "execution_count": null,
      "outputs": []
    }
  ]
}